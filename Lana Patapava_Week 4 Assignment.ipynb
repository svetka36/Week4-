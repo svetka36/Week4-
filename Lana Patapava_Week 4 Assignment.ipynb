{
 "cells": [
  {
   "cell_type": "markdown",
   "id": "9131e717",
   "metadata": {},
   "source": [
    "# My Jupyter Notebook on IBM Watson Studio"
   ]
  },
  {
   "cell_type": "markdown",
   "id": "b95aeb77",
   "metadata": {},
   "source": [
    "**Lana Patapava**  \n",
    "Student"
   ]
  },
  {
   "cell_type": "markdown",
   "id": "11e62b12",
   "metadata": {},
   "source": [
    "*I am interested in data science because it is the sexiest job of this century*"
   ]
  },
  {
   "cell_type": "markdown",
   "id": "f0c8d8a4",
   "metadata": {},
   "source": [
    "### The code in the cell below calculates the area of a circle"
   ]
  },
  {
   "cell_type": "code",
   "execution_count": 9,
   "id": "d52e10a7",
   "metadata": {},
   "outputs": [
    {
     "name": "stdout",
     "output_type": "stream",
     "text": [
      " Please Enter the radius of a circle: 4\n",
      "Area of the circle is : 50.27\n"
     ]
    }
   ],
   "source": [
    "import math\n",
    "radius = float(input(' Please Enter the radius of a circle: '))\n",
    "area = math.pi * radius *radius\n",
    " \n",
    "print(\"Area of the circle is : %.2f\" %area)"
   ]
  },
  {
   "cell_type": "markdown",
   "id": "f74449f8",
   "metadata": {},
   "source": [
    "* a\n",
    "* b\n",
    "* c\n",
    "\n",
    "1. a\n",
    "2. b\n",
    "3. c\n",
    "\n",
    "header| header1 | header2\n",
    "--- | --- | --- |\n",
    "a | b | c |\n"
   ]
  },
  {
   "cell_type": "code",
   "execution_count": null,
   "id": "91e62c48",
   "metadata": {},
   "outputs": [],
   "source": []
  },
  {
   "cell_type": "code",
   "execution_count": null,
   "id": "e8b07616",
   "metadata": {},
   "outputs": [],
   "source": []
  }
 ],
 "metadata": {
  "kernelspec": {
   "display_name": "Python 3 (ipykernel)",
   "language": "python",
   "name": "python3"
  },
  "language_info": {
   "codemirror_mode": {
    "name": "ipython",
    "version": 3
   },
   "file_extension": ".py",
   "mimetype": "text/x-python",
   "name": "python",
   "nbconvert_exporter": "python",
   "pygments_lexer": "ipython3",
   "version": "3.9.12"
  }
 },
 "nbformat": 4,
 "nbformat_minor": 5
}
